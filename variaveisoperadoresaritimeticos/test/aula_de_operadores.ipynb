{
  "nbformat": 4,
  "nbformat_minor": 0,
  "metadata": {
    "colab": {
      "provenance": [],
      "authorship_tag": "ABX9TyO6RAVyivjnzwviwSg6ODcm",
      "include_colab_link": true
    },
    "kernelspec": {
      "name": "python3",
      "display_name": "Python 3"
    },
    "language_info": {
      "name": "python"
    }
  },
  "cells": [
    {
      "cell_type": "markdown",
      "metadata": {
        "id": "view-in-github",
        "colab_type": "text"
      },
      "source": [
        "<a href=\"https://colab.research.google.com/github/Marianastyle/PA_2025/blob/main/variaveisoperadoresaritimeticos/test/aula_de_operadores.ipynb\" target=\"_parent\"><img src=\"https://colab.research.google.com/assets/colab-badge.svg\" alt=\"Open In Colab\"/></a>"
      ]
    },
    {
      "cell_type": "code",
      "execution_count": null,
      "metadata": {
        "colab": {
          "base_uri": "https://localhost:8080/"
        },
        "id": "wwrs6SBfU_zK",
        "outputId": "1ccc8b38-64bb-48f7-d0e6-948bd867b5c3"
      },
      "outputs": [
        {
          "output_type": "stream",
          "name": "stdout",
          "text": [
            "a area do quadrado é igual 16\n"
          ]
        }
      ],
      "source": [
        "l=4\n",
        "a=l*l\n",
        "print('a area do quadrado é igual', a)"
      ]
    },
    {
      "cell_type": "markdown",
      "source": [
        "#soma"
      ],
      "metadata": {
        "id": "-tUpriolXxEX"
      }
    },
    {
      "cell_type": "code",
      "source": [
        "3+5"
      ],
      "metadata": {
        "colab": {
          "base_uri": "https://localhost:8080/"
        },
        "id": "rCf-7gr8ZqbT",
        "outputId": "3a006936-d7ee-4f71-cc47-0151ed6cba88"
      },
      "execution_count": null,
      "outputs": [
        {
          "output_type": "execute_result",
          "data": {
            "text/plain": [
              "8"
            ]
          },
          "metadata": {},
          "execution_count": 5
        }
      ]
    },
    {
      "cell_type": "markdown",
      "source": [
        "# subtração"
      ],
      "metadata": {
        "id": "HRvhEKR4Z7Ak"
      }
    },
    {
      "cell_type": "code",
      "source": [
        "9-4"
      ],
      "metadata": {
        "colab": {
          "base_uri": "https://localhost:8080/"
        },
        "id": "-5M1F4EGaAJO",
        "outputId": "1b7a5aae-ab6b-4244-f881-39a6ff68e088"
      },
      "execution_count": null,
      "outputs": [
        {
          "output_type": "execute_result",
          "data": {
            "text/plain": [
              "5"
            ]
          },
          "metadata": {},
          "execution_count": 6
        }
      ]
    },
    {
      "cell_type": "markdown",
      "source": [
        "#multiplicação"
      ],
      "metadata": {
        "id": "2h7BQMPqaKdF"
      }
    },
    {
      "cell_type": "code",
      "source": [
        "5*6"
      ],
      "metadata": {
        "colab": {
          "base_uri": "https://localhost:8080/"
        },
        "id": "mOBFMBlIaOtu",
        "outputId": "dc982598-7c72-4cf7-c77d-4b52dc966c57"
      },
      "execution_count": null,
      "outputs": [
        {
          "output_type": "execute_result",
          "data": {
            "text/plain": [
              "30"
            ]
          },
          "metadata": {},
          "execution_count": 7
        }
      ]
    },
    {
      "cell_type": "markdown",
      "source": [
        "#divisão"
      ],
      "metadata": {
        "id": "ogc_Z-eFaTgA"
      }
    },
    {
      "cell_type": "code",
      "source": [
        "0*8"
      ],
      "metadata": {
        "colab": {
          "base_uri": "https://localhost:8080/"
        },
        "id": "YDYIBZ2daXvS",
        "outputId": "7b0503e4-96e0-4174-f06f-e3a42ba84931"
      },
      "execution_count": null,
      "outputs": [
        {
          "output_type": "execute_result",
          "data": {
            "text/plain": [
              "0"
            ]
          },
          "metadata": {},
          "execution_count": 8
        }
      ]
    },
    {
      "cell_type": "code",
      "source": [
        "l=5\n",
        "l=62\n",
        "a=l*l\n",
        "print('a area da base e igual', a)"
      ],
      "metadata": {
        "colab": {
          "base_uri": "https://localhost:8080/"
        },
        "id": "p984xzMEajJu",
        "outputId": "33320a23-487f-4de3-ef0c-1d0742f91be5"
      },
      "execution_count": null,
      "outputs": [
        {
          "output_type": "stream",
          "name": "stdout",
          "text": [
            "a area da base e igual 3844\n"
          ]
        }
      ]
    },
    {
      "cell_type": "markdown",
      "source": [
        "#igualdade"
      ],
      "metadata": {
        "id": "P0m4bBi6bKzh"
      }
    },
    {
      "cell_type": "code",
      "source": [
        "a=4\n",
        "a==4"
      ],
      "metadata": {
        "colab": {
          "base_uri": "https://localhost:8080/"
        },
        "id": "JdcAvjXJbNhn",
        "outputId": "03d7a1bd-d671-4c76-c09e-fd45ea72a9a1"
      },
      "execution_count": null,
      "outputs": [
        {
          "output_type": "execute_result",
          "data": {
            "text/plain": [
              "True"
            ]
          },
          "metadata": {},
          "execution_count": 10
        }
      ]
    },
    {
      "cell_type": "markdown",
      "source": [
        "#expoente"
      ],
      "metadata": {
        "id": "ThqfkFiObdbe"
      }
    },
    {
      "cell_type": "code",
      "source": [
        "4**3"
      ],
      "metadata": {
        "colab": {
          "base_uri": "https://localhost:8080/"
        },
        "id": "liLcbtLdbgWe",
        "outputId": "cc1f57e6-96ff-4991-9869-4844d591e6ab"
      },
      "execution_count": null,
      "outputs": [
        {
          "output_type": "execute_result",
          "data": {
            "text/plain": [
              "64"
            ]
          },
          "metadata": {},
          "execution_count": 11
        }
      ]
    },
    {
      "cell_type": "markdown",
      "source": [
        "#maior, menor, maior ou igual, menor ou igual"
      ],
      "metadata": {
        "id": "rV6MjGljbpQo"
      }
    },
    {
      "cell_type": "code",
      "source": [
        "5>2"
      ],
      "metadata": {
        "colab": {
          "base_uri": "https://localhost:8080/"
        },
        "id": "y99xRE4acUFq",
        "outputId": "2a924a9e-5b8b-42dd-c47d-2afc94ad3a96"
      },
      "execution_count": null,
      "outputs": [
        {
          "output_type": "execute_result",
          "data": {
            "text/plain": [
              "True"
            ]
          },
          "metadata": {},
          "execution_count": 12
        }
      ]
    },
    {
      "cell_type": "code",
      "source": [
        "5>6"
      ],
      "metadata": {
        "colab": {
          "base_uri": "https://localhost:8080/"
        },
        "id": "CkxnaRZVcaCH",
        "outputId": "58d0dacd-8e9b-407a-d143-d23c4a30124f"
      },
      "execution_count": null,
      "outputs": [
        {
          "output_type": "execute_result",
          "data": {
            "text/plain": [
              "False"
            ]
          },
          "metadata": {},
          "execution_count": 13
        }
      ]
    },
    {
      "cell_type": "code",
      "source": [
        "5<6"
      ],
      "metadata": {
        "colab": {
          "base_uri": "https://localhost:8080/"
        },
        "id": "LkdTHXbOchLp",
        "outputId": "ecc577b7-2364-4d33-f475-e60e21687b5b"
      },
      "execution_count": null,
      "outputs": [
        {
          "output_type": "execute_result",
          "data": {
            "text/plain": [
              "True"
            ]
          },
          "metadata": {},
          "execution_count": 14
        }
      ]
    },
    {
      "cell_type": "code",
      "source": [
        "5<4"
      ],
      "metadata": {
        "colab": {
          "base_uri": "https://localhost:8080/"
        },
        "id": "5ISHTv-BcuGG",
        "outputId": "a023f818-935b-4408-d106-e97e2978ee7b"
      },
      "execution_count": null,
      "outputs": [
        {
          "output_type": "execute_result",
          "data": {
            "text/plain": [
              "False"
            ]
          },
          "metadata": {},
          "execution_count": 15
        }
      ]
    },
    {
      "cell_type": "code",
      "source": [
        "56>32"
      ],
      "metadata": {
        "colab": {
          "base_uri": "https://localhost:8080/"
        },
        "id": "fuXm8tMpc0jI",
        "outputId": "d1800526-9af0-4605-86c8-fd2f6e2c2fa4"
      },
      "execution_count": null,
      "outputs": [
        {
          "output_type": "execute_result",
          "data": {
            "text/plain": [
              "True"
            ]
          },
          "metadata": {},
          "execution_count": 16
        }
      ]
    },
    {
      "cell_type": "code",
      "source": [
        "5>=5"
      ],
      "metadata": {
        "colab": {
          "base_uri": "https://localhost:8080/"
        },
        "id": "V8iB-9dtdQ3D",
        "outputId": "89e98e11-d983-495f-fcef-72a4a46eadd7"
      },
      "execution_count": null,
      "outputs": [
        {
          "output_type": "execute_result",
          "data": {
            "text/plain": [
              "True"
            ]
          },
          "metadata": {},
          "execution_count": 17
        }
      ]
    },
    {
      "cell_type": "code",
      "source": [
        "6<=6"
      ],
      "metadata": {
        "colab": {
          "base_uri": "https://localhost:8080/"
        },
        "id": "k_rSpJcJdUrx",
        "outputId": "6f4876b6-8c47-4af1-a934-8a69112575dd"
      },
      "execution_count": null,
      "outputs": [
        {
          "output_type": "execute_result",
          "data": {
            "text/plain": [
              "True"
            ]
          },
          "metadata": {},
          "execution_count": 19
        }
      ]
    },
    {
      "cell_type": "code",
      "source": [
        "5-6+8+15*(6/2)+4-9"
      ],
      "metadata": {
        "colab": {
          "base_uri": "https://localhost:8080/"
        },
        "id": "TaCE1ikbdiFX",
        "outputId": "97f7bf87-1176-4c0f-e967-42a270111a49"
      },
      "execution_count": null,
      "outputs": [
        {
          "output_type": "execute_result",
          "data": {
            "text/plain": [
              "47.0"
            ]
          },
          "metadata": {},
          "execution_count": 20
        }
      ]
    },
    {
      "cell_type": "markdown",
      "source": [
        "#divisão"
      ],
      "metadata": {
        "id": "PLOqve-Nd5C-"
      }
    },
    {
      "cell_type": "code",
      "source": [
        "6/2"
      ],
      "metadata": {
        "colab": {
          "base_uri": "https://localhost:8080/"
        },
        "id": "-ltZZlHud7r8",
        "outputId": "3f7187e4-8b78-4df8-bd69-0955b28c691a"
      },
      "execution_count": null,
      "outputs": [
        {
          "output_type": "execute_result",
          "data": {
            "text/plain": [
              "3.0"
            ]
          },
          "metadata": {},
          "execution_count": 21
        }
      ]
    },
    {
      "cell_type": "code",
      "source": [
        "50/5"
      ],
      "metadata": {
        "colab": {
          "base_uri": "https://localhost:8080/"
        },
        "id": "4MZjqzcCd-tX",
        "outputId": "f33d2476-aa21-4408-de33-4063802077bb"
      },
      "execution_count": null,
      "outputs": [
        {
          "output_type": "execute_result",
          "data": {
            "text/plain": [
              "10.0"
            ]
          },
          "metadata": {},
          "execution_count": 22
        }
      ]
    },
    {
      "cell_type": "code",
      "source": [
        "63/8"
      ],
      "metadata": {
        "colab": {
          "base_uri": "https://localhost:8080/"
        },
        "id": "Blkxg4sceEO7",
        "outputId": "361fcb89-59b6-4b4c-f5d1-7bc5a278e415"
      },
      "execution_count": null,
      "outputs": [
        {
          "output_type": "execute_result",
          "data": {
            "text/plain": [
              "7.875"
            ]
          },
          "metadata": {},
          "execution_count": 23
        }
      ]
    },
    {
      "cell_type": "code",
      "source": [
        "63/546"
      ],
      "metadata": {
        "colab": {
          "base_uri": "https://localhost:8080/"
        },
        "id": "pvQRXtUseIRf",
        "outputId": "e3200703-8179-4f8a-bb21-66d58cf1f40b"
      },
      "execution_count": null,
      "outputs": [
        {
          "output_type": "execute_result",
          "data": {
            "text/plain": [
              "0.11538461538461539"
            ]
          },
          "metadata": {},
          "execution_count": 24
        }
      ]
    },
    {
      "cell_type": "code",
      "source": [
        "6/7"
      ],
      "metadata": {
        "colab": {
          "base_uri": "https://localhost:8080/"
        },
        "id": "ISlniCF6eM0L",
        "outputId": "0178c84b-ef9e-4b7f-86c7-372fe9ea9185"
      },
      "execution_count": null,
      "outputs": [
        {
          "output_type": "execute_result",
          "data": {
            "text/plain": [
              "0.8571428571428571"
            ]
          },
          "metadata": {},
          "execution_count": 25
        }
      ]
    },
    {
      "cell_type": "markdown",
      "source": [
        "#diferente"
      ],
      "metadata": {
        "id": "gKBP2iWieRdR"
      }
    },
    {
      "cell_type": "code",
      "source": [
        "a!=4"
      ],
      "metadata": {
        "colab": {
          "base_uri": "https://localhost:8080/"
        },
        "id": "PQ1tnNWGeVjl",
        "outputId": "546a85d8-f41b-45be-9b4f-29e8578bed6d"
      },
      "execution_count": null,
      "outputs": [
        {
          "output_type": "execute_result",
          "data": {
            "text/plain": [
              "False"
            ]
          },
          "metadata": {},
          "execution_count": 26
        }
      ]
    },
    {
      "cell_type": "markdown",
      "source": [
        "#variaveis"
      ],
      "metadata": {
        "id": "yxxi24IKecmk"
      }
    },
    {
      "cell_type": "code",
      "source": [
        "nome = 'mariana'\n",
        "sobrenome = 'hangai'\n",
        "print(' meu nome é '+ ' '+ nome + ' '+ ' '+ sobrenome)"
      ],
      "metadata": {
        "colab": {
          "base_uri": "https://localhost:8080/"
        },
        "id": "OP0J-3HDefsb",
        "outputId": "6b8608e4-1144-4c4e-adc3-84b65083628c"
      },
      "execution_count": null,
      "outputs": [
        {
          "output_type": "stream",
          "name": "stdout",
          "text": [
            " meu nome é  mariana  hangai\n"
          ]
        }
      ]
    },
    {
      "cell_type": "code",
      "source": [
        "nome1 = str(input('digite seu nome: '))\n",
        "sobrenome1 = str(input('digite seu sobrenome: '))\n",
        "\n",
        "print('meu nome é ' + nome1 + ' '+sobrenome1)"
      ],
      "metadata": {
        "colab": {
          "base_uri": "https://localhost:8080/"
        },
        "id": "apLNsKLvjotJ",
        "outputId": "00961a2f-2cd0-4c18-e8a2-b7a402845e03"
      },
      "execution_count": null,
      "outputs": [
        {
          "output_type": "stream",
          "name": "stdout",
          "text": [
            "digite seu nome: mariana\n",
            "digite seu sobrenome: hangai\n",
            "meu nome é mariana hangai\n"
          ]
        }
      ]
    },
    {
      "cell_type": "code",
      "source": [
        "print (nome)"
      ],
      "metadata": {
        "colab": {
          "base_uri": "https://localhost:8080/"
        },
        "id": "1Z9v5dMtlJxI",
        "outputId": "63bd9e39-6d1d-4eb2-fb4c-862ae7d9d241"
      },
      "execution_count": null,
      "outputs": [
        {
          "output_type": "stream",
          "name": "stdout",
          "text": [
            "mariana\n"
          ]
        }
      ]
    },
    {
      "cell_type": "code",
      "source": [
        "print (sobrenome)"
      ],
      "metadata": {
        "colab": {
          "base_uri": "https://localhost:8080/"
        },
        "id": "zoMKPrhUlR3N",
        "outputId": "7d4d0e0a-e97d-4474-a98f-7a88d4077371"
      },
      "execution_count": null,
      "outputs": [
        {
          "output_type": "stream",
          "name": "stdout",
          "text": [
            "hangai\n"
          ]
        }
      ]
    },
    {
      "cell_type": "markdown",
      "source": [
        "#quadrado"
      ],
      "metadata": {
        "id": "V1bc-KcQloCV"
      }
    },
    {
      "cell_type": "code",
      "source": [
        "#entrada\n",
        "lado = int(input('a area do quadrado é: '))\n",
        "#processamento\n",
        "area = lado * lado\n",
        "#saida\n",
        "\n",
        "print('o resultado é ' ,area)"
      ],
      "metadata": {
        "colab": {
          "base_uri": "https://localhost:8080/"
        },
        "id": "D33qFi8rltTl",
        "outputId": "1db31adb-8244-4de9-df51-9d93ad0e2582"
      },
      "execution_count": null,
      "outputs": [
        {
          "output_type": "stream",
          "name": "stdout",
          "text": [
            "a area do quadrado é: 87\n",
            "o resultado é  7569\n"
          ]
        }
      ]
    },
    {
      "cell_type": "code",
      "source": [
        "#Entrada\n",
        "lado = float(input('digite o lado do quadrado: '))\n",
        "\n",
        "#processamento\n",
        "area = lado*lado\n",
        "\n",
        "#saida\n",
        "print ('a area do quadrado é igual a',area)"
      ],
      "metadata": {
        "colab": {
          "base_uri": "https://localhost:8080/"
        },
        "id": "djHruvZbnjzB",
        "outputId": "65c3427c-feb8-4a6c-edf5-89d80d1037e5"
      },
      "execution_count": null,
      "outputs": [
        {
          "output_type": "stream",
          "name": "stdout",
          "text": [
            "digite o lado do quadrado: 50\n",
            "a area do quadrado é igual a 2500.0\n"
          ]
        }
      ]
    }
  ]
}