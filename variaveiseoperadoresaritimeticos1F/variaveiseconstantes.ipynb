{
  "nbformat": 4,
  "nbformat_minor": 0,
  "metadata": {
    "colab": {
      "provenance": [],
      "authorship_tag": "ABX9TyNTTNN2TkdfkMUp0Ibp6zHQ",
      "include_colab_link": true
    },
    "kernelspec": {
      "name": "python3",
      "display_name": "Python 3"
    },
    "language_info": {
      "name": "python"
    }
  },
  "cells": [
    {
      "cell_type": "markdown",
      "metadata": {
        "id": "view-in-github",
        "colab_type": "text"
      },
      "source": [
        "<a href=\"https://colab.research.google.com/github/Marianastyle/PA_2025/blob/main/variaveiseoperadoresaritimeticos1F/variaveiseconstantes.ipynb\" target=\"_parent\"><img src=\"https://colab.research.google.com/assets/colab-badge.svg\" alt=\"Open In Colab\"/></a>"
      ]
    },
    {
      "cell_type": "code",
      "execution_count": null,
      "metadata": {
        "id": "GNTTdRlNhBtG"
      },
      "outputs": [],
      "source": []
    },
    {
      "cell_type": "markdown",
      "source": [
        "#variaveis e constantes"
      ],
      "metadata": {
        "id": "HSHEQ9pShCqf"
      }
    },
    {
      "cell_type": "code",
      "source": [],
      "metadata": {
        "id": "8tQ9p7xJhLbu"
      },
      "execution_count": null,
      "outputs": []
    },
    {
      "cell_type": "markdown",
      "source": [
        "#EXERCICIOS\n",
        "##Exercício 1 - Área do Retângulo\n",
        "\n",
        "Crie um programa que calcule a área de um retângulo usando uma constante para representar a base.\n",
        "\n",
        " Fórmula: A = base × altura\n",
        "\n",
        " Desafio:\n",
        "\n",
        "Defina a base como uma constante (BASE = ?).\n",
        "\n",
        "Peça ao usuário para informar a altura.\n",
        "\n",
        "Exiba o resultado."
      ],
      "metadata": {
        "id": "cWt8toxqp9G9"
      }
    },
    {
      "cell_type": "code",
      "source": [
        "#entrada\n",
        "base= float(input(\"Digite o valor da base\"))\n",
        "altura= float(input(\"Digite o valor da altura\"))\n"
      ],
      "metadata": {
        "colab": {
          "base_uri": "https://localhost:8080/"
        },
        "id": "8DpISdW9qEUC",
        "outputId": "10dec323-b50b-4fbb-cf5d-c19312c87efc"
      },
      "execution_count": 9,
      "outputs": [
        {
          "name": "stdout",
          "output_type": "stream",
          "text": [
            "Digite o valor da base10\n",
            "Digite o valor da altura43\n"
          ]
        }
      ]
    },
    {
      "cell_type": "code",
      "source": [
        "areareta= (base * altura)"
      ],
      "metadata": {
        "id": "VFIh97iduhDd"
      },
      "execution_count": 10,
      "outputs": []
    },
    {
      "cell_type": "code",
      "source": [
        "print(f\"A area do retangulo é{areareta}\")"
      ],
      "metadata": {
        "colab": {
          "base_uri": "https://localhost:8080/"
        },
        "id": "AV3VM5ioux2p",
        "outputId": "46da0336-7687-48e5-a6f0-fe4b13a44c44"
      },
      "execution_count": 14,
      "outputs": [
        {
          "output_type": "stream",
          "name": "stdout",
          "text": [
            "A area do retangulo é430.0\n"
          ]
        }
      ]
    },
    {
      "cell_type": "markdown",
      "source": [
        "##Exercício 2 – Perímetro do Círculo\n",
        "\n",
        "Crie um programa que calcule o perímetro de um círculo usando a constante π.\n",
        "\n",
        " Fórmula: P = 2 × π × r\n",
        "\n",
        " Desafio:\n",
        "\n",
        "Defina π como uma constante (PI = 3.1416).\n",
        "\n",
        "Peça ao usuário para digitar o raio.\n",
        "\n",
        "Exiba o resultado formatado com duas casas decimais.\n",
        "\n",
        "Veja um exemplo de como ter uma saída com duas casas decimais, quando usar o \"format\", basta colocar depois do nome da variável o \":.2f\"\n",
        "\n",
        "Exemplo abaixo:\n",
        "\n",
        "         print(f\"A área do Quadrado é: {nomevariarel:.2f}\")"
      ],
      "metadata": {
        "id": "72egk6hBxBTj"
      }
    },
    {
      "cell_type": "code",
      "source": [
        "PI=3.1416"
      ],
      "metadata": {
        "id": "ugN_EhY7xDYb"
      },
      "execution_count": 15,
      "outputs": []
    },
    {
      "cell_type": "code",
      "source": [
        "raio= float(input(\"digite o valor do raio\"))"
      ],
      "metadata": {
        "colab": {
          "base_uri": "https://localhost:8080/"
        },
        "id": "zgI7y-Osygn-",
        "outputId": "3e288526-2de9-4584-8cfe-96b69dbedf5d"
      },
      "execution_count": 18,
      "outputs": [
        {
          "name": "stdout",
          "output_type": "stream",
          "text": [
            "digite o valor do raio56\n"
          ]
        }
      ]
    },
    {
      "cell_type": "code",
      "source": [
        "perimetro = 2*PI*raio"
      ],
      "metadata": {
        "id": "jcArNftO1a-k"
      },
      "execution_count": 21,
      "outputs": []
    },
    {
      "cell_type": "code",
      "source": [
        "print(f\"o perimetro é:{perimetro:.2f}\")"
      ],
      "metadata": {
        "colab": {
          "base_uri": "https://localhost:8080/"
        },
        "id": "uO0MdGtM1tPD",
        "outputId": "8a97f81b-bf6c-4b93-d809-4c71670f72fb"
      },
      "execution_count": 22,
      "outputs": [
        {
          "output_type": "stream",
          "name": "stdout",
          "text": [
            "o perimetro é:351.86\n"
          ]
        }
      ]
    },
    {
      "cell_type": "markdown",
      "source": [
        "##Exercício 3 – Conversão de Temperatura\n",
        "\n",
        "Crie um programa que converta uma temperatura de Fahrenheit para Celsius.\n",
        "\n",
        " Fórmula: C = (F - 32) × 5/9\n",
        "\n",
        " Desafio:\n",
        "\n",
        "Peça ao usuário para inserir a temperatura em Fahrenheit.\n",
        "\n",
        "Exiba o resultado formatado com duas casas decimais.\n",
        "\n",
        "Veja um exemplo de como ter uma saída com duas casas decimais, quando usar o \"format\", basta colocar depois do nome da variável o \":.2f\"\n",
        "\n",
        "Exemplo abaixo:\n",
        "\n",
        "         print(f\"A área do Quadrado é: {nomevariarel:.2f}\")"
      ],
      "metadata": {
        "id": "iu0-D1bF1EcT"
      }
    },
    {
      "cell_type": "code",
      "source": [
        "f= float(input(\"digite a temperatura fahrenheit\"))"
      ],
      "metadata": {
        "colab": {
          "base_uri": "https://localhost:8080/"
        },
        "id": "kw9Hp-PT1Yqc",
        "outputId": "e7246710-98d3-4f00-8252-d567027c306e"
      },
      "execution_count": 28,
      "outputs": [
        {
          "name": "stdout",
          "output_type": "stream",
          "text": [
            "digite a temperatura fahrenheit20\n"
          ]
        }
      ]
    },
    {
      "cell_type": "markdown",
      "source": [],
      "metadata": {
        "id": "hKTlk0Nh4vAC"
      }
    },
    {
      "cell_type": "code",
      "source": [
        "celcius = (f-32)*5/9"
      ],
      "metadata": {
        "id": "EfxKPY9d1Kjq"
      },
      "execution_count": 29,
      "outputs": []
    },
    {
      "cell_type": "code",
      "source": [
        "print(f\"a temperatura fahrenheit é {celcius}\")"
      ],
      "metadata": {
        "colab": {
          "base_uri": "https://localhost:8080/"
        },
        "id": "fObGqECz4cWH",
        "outputId": "5ab94534-fa51-44c6-84cf-72029a2407a9"
      },
      "execution_count": 30,
      "outputs": [
        {
          "output_type": "stream",
          "name": "stdout",
          "text": [
            "a temperatura fahrenheit é -6.666666666666667\n"
          ]
        }
      ]
    },
    {
      "cell_type": "markdown",
      "source": [
        "##Exercício 4 – Cálculo do IMC\n",
        "\n",
        "Crie um programa que calcule o Índice de Massa Corporal (IMC) de uma pessoa.\n",
        "\n",
        " Fórmula: IMC = peso / altura²\n",
        "\n",
        " Desafio:\n",
        "\n",
        "Peça ao usuário para informar peso e altura.\n",
        "\n",
        "Exiba o IMC calculado.\n",
        "\n"
      ],
      "metadata": {
        "id": "S_z5S-mU4xLC"
      }
    },
    {
      "cell_type": "code",
      "source": [
        "peso= float(input(\"digite o peso\"))\n",
        "altura= float(input(\"digite a altura\"))"
      ],
      "metadata": {
        "colab": {
          "base_uri": "https://localhost:8080/"
        },
        "id": "UZtwv6t74zgC",
        "outputId": "618c41d6-b24d-4fba-f02d-0a49207d03c1"
      },
      "execution_count": 33,
      "outputs": [
        {
          "name": "stdout",
          "output_type": "stream",
          "text": [
            "digite o peso17\n",
            "digite a altura1.50\n"
          ]
        }
      ]
    },
    {
      "cell_type": "code",
      "source": [
        "IMC= peso/altura**2"
      ],
      "metadata": {
        "id": "dAELsMX35aPA"
      },
      "execution_count": 37,
      "outputs": []
    },
    {
      "cell_type": "code",
      "source": [
        "print(f\"o peso_altura é{IMC}\")"
      ],
      "metadata": {
        "colab": {
          "base_uri": "https://localhost:8080/"
        },
        "id": "WH5FRIsM5lqA",
        "outputId": "237f41f7-d6b3-436b-ec8f-e130ee936fcf"
      },
      "execution_count": 40,
      "outputs": [
        {
          "output_type": "stream",
          "name": "stdout",
          "text": [
            "o peso_altura é7.555555555555555\n"
          ]
        }
      ]
    }
  ]
}